{
 "cells": [
  {
   "cell_type": "markdown",
   "metadata": {},
   "source": [
    "# Goal: Identifying Fraudulent Activities"
   ]
  },
  {
   "cell_type": "markdown",
   "metadata": {},
   "source": [
    "To build a model that predicts whether a user has a high probability of using the site to\n",
    "perform some illegal activity or not. \n",
    "Available data, 2 tables:\n",
    "\n",
    "-\"Fraud_Data\" - information about each user's first transaction\n",
    "\n",
    "-\"IpAddress_to_Country\" - mapping each numeric ip address to its country.\n",
    "For each country, it gives a range. If the numeric ip address falls within\n",
    "the range, then the ip address belongs to the corresponding country."
   ]
  },
  {
   "cell_type": "code",
   "execution_count": 1,
   "metadata": {
    "collapsed": true
   },
   "outputs": [],
   "source": [
    "# Import dependencies\n",
    "\n",
    "import pandas as pd\n",
    "import numpy as np\n",
    "import matplotlib.pyplot as plt\n",
    "import seaborn as sns\n",
    "%matplotlib inline"
   ]
  },
  {
   "cell_type": "code",
   "execution_count": 2,
   "metadata": {
    "collapsed": true
   },
   "outputs": [],
   "source": [
    "# Read in the data\n",
    "\n",
    "fraud_data = pd.read_csv('fraud_data.csv')\n",
    "ip_address = pd.read_csv('IpAddress_to_Country.csv')"
   ]
  },
  {
   "cell_type": "code",
   "execution_count": 3,
   "metadata": {
    "scrolled": true
   },
   "outputs": [
    {
     "data": {
      "text/plain": [
       "False"
      ]
     },
     "execution_count": 3,
     "metadata": {},
     "output_type": "execute_result"
    }
   ],
   "source": [
    "#Comparing the two tables\n",
    "\n",
    "len(fraud_data) == len(ip_address)"
   ]
  },
  {
   "cell_type": "markdown",
   "metadata": {},
   "source": [
    "###### Number of rows for the tables are different, check the difference"
   ]
  },
  {
   "cell_type": "code",
   "execution_count": 4,
   "metadata": {},
   "outputs": [
    {
     "data": {
      "text/plain": [
       "(151112, 11)"
      ]
     },
     "execution_count": 4,
     "metadata": {},
     "output_type": "execute_result"
    }
   ],
   "source": [
    "fraud_data.shape"
   ]
  },
  {
   "cell_type": "code",
   "execution_count": 5,
   "metadata": {
    "scrolled": false
   },
   "outputs": [
    {
     "data": {
      "text/plain": [
       "(138846, 3)"
      ]
     },
     "execution_count": 5,
     "metadata": {},
     "output_type": "execute_result"
    }
   ],
   "source": [
    "ip_address.shape"
   ]
  },
  {
   "cell_type": "code",
   "execution_count": 6,
   "metadata": {},
   "outputs": [
    {
     "data": {
      "text/plain": [
       "True"
      ]
     },
     "execution_count": 6,
     "metadata": {},
     "output_type": "execute_result"
    }
   ],
   "source": [
    "len(fraud_data) == len(fraud_data.user_id) #all users are unique"
   ]
  },
  {
   "cell_type": "markdown",
   "metadata": {},
   "source": [
    "######  Create a loop to look up the country from IP address range and insert a new column 'country' in the main dataset"
   ]
  },
  {
   "cell_type": "code",
   "execution_count": 7,
   "metadata": {
    "collapsed": true
   },
   "outputs": [],
   "source": [
    "# country = len(fraud_data) * [0]\n",
    "# for ind, row in fraud_data.iterrows():\n",
    "#     temp = ip_address[(ip_address['lower_bound_ip_address'] < row['ip_address']) & \n",
    "#            (ip_address['upper_bound_ip_address'] > row['ip_address'])]['country']\n",
    "#     \n",
    "#     if len(temp) == 1:\n",
    "#         country[ind] = temp.values[0]\n",
    "# fraud_data['country'] = country"
   ]
  },
  {
   "cell_type": "code",
   "execution_count": 8,
   "metadata": {
    "collapsed": true
   },
   "outputs": [],
   "source": [
    "# Create a new csv file with country to save time each time we run the kernel\n",
    "#fraud_data.to_csv('full_data.csv')"
   ]
  },
  {
   "cell_type": "code",
   "execution_count": 9,
   "metadata": {
    "collapsed": true
   },
   "outputs": [],
   "source": [
    "# Read in the new table with country in a new dataframe called data\n",
    "data = pd.read_csv('full_data.csv', parse_dates=['signup_time', 'purchase_time']) # parse the time columns"
   ]
  },
  {
   "cell_type": "code",
   "execution_count": 10,
   "metadata": {
    "scrolled": false
   },
   "outputs": [
    {
     "data": {
      "text/html": [
       "<div>\n",
       "<style scoped>\n",
       "    .dataframe tbody tr th:only-of-type {\n",
       "        vertical-align: middle;\n",
       "    }\n",
       "\n",
       "    .dataframe tbody tr th {\n",
       "        vertical-align: top;\n",
       "    }\n",
       "\n",
       "    .dataframe thead th {\n",
       "        text-align: right;\n",
       "    }\n",
       "</style>\n",
       "<table border=\"1\" class=\"dataframe\">\n",
       "  <thead>\n",
       "    <tr style=\"text-align: right;\">\n",
       "      <th></th>\n",
       "      <th>Unnamed: 0</th>\n",
       "      <th>user_id</th>\n",
       "      <th>signup_time</th>\n",
       "      <th>purchase_time</th>\n",
       "      <th>purchase_value</th>\n",
       "      <th>device_id</th>\n",
       "      <th>source</th>\n",
       "      <th>browser</th>\n",
       "      <th>sex</th>\n",
       "      <th>age</th>\n",
       "      <th>ip_address</th>\n",
       "      <th>class</th>\n",
       "      <th>country</th>\n",
       "    </tr>\n",
       "  </thead>\n",
       "  <tbody>\n",
       "    <tr>\n",
       "      <th>0</th>\n",
       "      <td>0</td>\n",
       "      <td>22058</td>\n",
       "      <td>2015-02-24 22:55:49</td>\n",
       "      <td>2015-04-18 02:47:11</td>\n",
       "      <td>34</td>\n",
       "      <td>QVPSPJUOCKZAR</td>\n",
       "      <td>SEO</td>\n",
       "      <td>Chrome</td>\n",
       "      <td>M</td>\n",
       "      <td>39</td>\n",
       "      <td>7.327584e+08</td>\n",
       "      <td>0</td>\n",
       "      <td>Japan</td>\n",
       "    </tr>\n",
       "    <tr>\n",
       "      <th>1</th>\n",
       "      <td>1</td>\n",
       "      <td>333320</td>\n",
       "      <td>2015-06-07 20:39:50</td>\n",
       "      <td>2015-06-08 01:38:54</td>\n",
       "      <td>16</td>\n",
       "      <td>EOGFQPIZPYXFZ</td>\n",
       "      <td>Ads</td>\n",
       "      <td>Chrome</td>\n",
       "      <td>F</td>\n",
       "      <td>53</td>\n",
       "      <td>3.503114e+08</td>\n",
       "      <td>0</td>\n",
       "      <td>United States</td>\n",
       "    </tr>\n",
       "    <tr>\n",
       "      <th>2</th>\n",
       "      <td>2</td>\n",
       "      <td>1359</td>\n",
       "      <td>2015-01-01 18:52:44</td>\n",
       "      <td>2015-01-01 18:52:45</td>\n",
       "      <td>15</td>\n",
       "      <td>YSSKYOSJHPPLJ</td>\n",
       "      <td>SEO</td>\n",
       "      <td>Opera</td>\n",
       "      <td>M</td>\n",
       "      <td>53</td>\n",
       "      <td>2.621474e+09</td>\n",
       "      <td>1</td>\n",
       "      <td>United States</td>\n",
       "    </tr>\n",
       "    <tr>\n",
       "      <th>3</th>\n",
       "      <td>3</td>\n",
       "      <td>150084</td>\n",
       "      <td>2015-04-28 21:13:25</td>\n",
       "      <td>2015-05-04 13:54:50</td>\n",
       "      <td>44</td>\n",
       "      <td>ATGTXKYKUDUQN</td>\n",
       "      <td>SEO</td>\n",
       "      <td>Safari</td>\n",
       "      <td>M</td>\n",
       "      <td>41</td>\n",
       "      <td>3.840542e+09</td>\n",
       "      <td>0</td>\n",
       "      <td>0</td>\n",
       "    </tr>\n",
       "    <tr>\n",
       "      <th>4</th>\n",
       "      <td>4</td>\n",
       "      <td>221365</td>\n",
       "      <td>2015-07-21 07:09:52</td>\n",
       "      <td>2015-09-09 18:40:53</td>\n",
       "      <td>39</td>\n",
       "      <td>NAUITBZFJKHWW</td>\n",
       "      <td>Ads</td>\n",
       "      <td>Safari</td>\n",
       "      <td>M</td>\n",
       "      <td>45</td>\n",
       "      <td>4.155831e+08</td>\n",
       "      <td>0</td>\n",
       "      <td>United States</td>\n",
       "    </tr>\n",
       "  </tbody>\n",
       "</table>\n",
       "</div>"
      ],
      "text/plain": [
       "   Unnamed: 0  user_id         signup_time       purchase_time  \\\n",
       "0           0    22058 2015-02-24 22:55:49 2015-04-18 02:47:11   \n",
       "1           1   333320 2015-06-07 20:39:50 2015-06-08 01:38:54   \n",
       "2           2     1359 2015-01-01 18:52:44 2015-01-01 18:52:45   \n",
       "3           3   150084 2015-04-28 21:13:25 2015-05-04 13:54:50   \n",
       "4           4   221365 2015-07-21 07:09:52 2015-09-09 18:40:53   \n",
       "\n",
       "   purchase_value      device_id source browser sex  age    ip_address  class  \\\n",
       "0              34  QVPSPJUOCKZAR    SEO  Chrome   M   39  7.327584e+08      0   \n",
       "1              16  EOGFQPIZPYXFZ    Ads  Chrome   F   53  3.503114e+08      0   \n",
       "2              15  YSSKYOSJHPPLJ    SEO   Opera   M   53  2.621474e+09      1   \n",
       "3              44  ATGTXKYKUDUQN    SEO  Safari   M   41  3.840542e+09      0   \n",
       "4              39  NAUITBZFJKHWW    Ads  Safari   M   45  4.155831e+08      0   \n",
       "\n",
       "         country  \n",
       "0          Japan  \n",
       "1  United States  \n",
       "2  United States  \n",
       "3              0  \n",
       "4  United States  "
      ]
     },
     "execution_count": 10,
     "metadata": {},
     "output_type": "execute_result"
    }
   ],
   "source": [
    "#Explore the dataset\n",
    "data.head()"
   ]
  },
  {
   "cell_type": "markdown",
   "metadata": {},
   "source": [
    "######  Column Unnamed:0 to be removed from the dataframe being an incorrect index"
   ]
  },
  {
   "cell_type": "code",
   "execution_count": 11,
   "metadata": {
    "collapsed": true
   },
   "outputs": [],
   "source": [
    "data = data.drop('Unnamed: 0', 1)"
   ]
  },
  {
   "cell_type": "code",
   "execution_count": 12,
   "metadata": {},
   "outputs": [
    {
     "name": "stdout",
     "output_type": "stream",
     "text": [
      "<class 'pandas.core.frame.DataFrame'>\n",
      "RangeIndex: 151112 entries, 0 to 151111\n",
      "Data columns (total 12 columns):\n",
      "user_id           151112 non-null int64\n",
      "signup_time       151112 non-null datetime64[ns]\n",
      "purchase_time     151112 non-null datetime64[ns]\n",
      "purchase_value    151112 non-null int64\n",
      "device_id         151112 non-null object\n",
      "source            151112 non-null object\n",
      "browser           151112 non-null object\n",
      "sex               151112 non-null object\n",
      "age               151112 non-null int64\n",
      "ip_address        151112 non-null float64\n",
      "class             151112 non-null int64\n",
      "country           151112 non-null object\n",
      "dtypes: datetime64[ns](2), float64(1), int64(4), object(5)\n",
      "memory usage: 13.8+ MB\n"
     ]
    }
   ],
   "source": [
    "#Check data structure ( types, missing values, etc.)\n",
    "data.info()"
   ]
  },
  {
   "cell_type": "markdown",
   "metadata": {},
   "source": [
    "###### Sanity check of data"
   ]
  },
  {
   "cell_type": "code",
   "execution_count": 13,
   "metadata": {
    "scrolled": true
   },
   "outputs": [
    {
     "data": {
      "text/plain": [
       "array(['SEO', 'Ads', 'Direct'], dtype=object)"
      ]
     },
     "execution_count": 13,
     "metadata": {},
     "output_type": "execute_result"
    }
   ],
   "source": [
    "data.source.unique() # Ok only three sources"
   ]
  },
  {
   "cell_type": "code",
   "execution_count": 14,
   "metadata": {
    "scrolled": false
   },
   "outputs": [
    {
     "data": {
      "text/plain": [
       "182"
      ]
     },
     "execution_count": 14,
     "metadata": {},
     "output_type": "execute_result"
    }
   ],
   "source": [
    "data['country'].nunique()"
   ]
  },
  {
   "cell_type": "code",
   "execution_count": 15,
   "metadata": {
    "scrolled": true
   },
   "outputs": [
    {
     "data": {
      "text/plain": [
       "array(['M', 'F'], dtype=object)"
      ]
     },
     "execution_count": 15,
     "metadata": {},
     "output_type": "execute_result"
    }
   ],
   "source": [
    "data.sex.unique() # Ok only two sex"
   ]
  },
  {
   "cell_type": "code",
   "execution_count": 16,
   "metadata": {
    "scrolled": true
   },
   "outputs": [
    {
     "data": {
      "text/plain": [
       "array(['Chrome', 'Opera', 'Safari', 'IE', 'FireFox'], dtype=object)"
      ]
     },
     "execution_count": 16,
     "metadata": {},
     "output_type": "execute_result"
    }
   ],
   "source": [
    "data.browser.unique()"
   ]
  },
  {
   "cell_type": "code",
   "execution_count": 17,
   "metadata": {
    "scrolled": true
   },
   "outputs": [
    {
     "data": {
      "text/plain": [
       "array([18, 19, 20, 21, 22, 23, 24, 25, 26, 27, 28, 29, 30, 31, 32, 33, 34,\n",
       "       35, 36, 37, 38, 39, 40, 41, 42, 43, 44, 45, 46, 47, 48, 49, 50, 51,\n",
       "       52, 53, 54, 55, 56, 57, 58, 59, 60, 61, 62, 63, 64, 65, 66, 67, 68,\n",
       "       69, 70, 71, 72, 73, 74, 76], dtype=int64)"
      ]
     },
     "execution_count": 17,
     "metadata": {},
     "output_type": "execute_result"
    }
   ],
   "source": [
    "np.sort(data.age.unique()) # OK ages are reasonable"
   ]
  },
  {
   "cell_type": "code",
   "execution_count": 18,
   "metadata": {
    "scrolled": false
   },
   "outputs": [
    {
     "data": {
      "text/plain": [
       "array([0, 1], dtype=int64)"
      ]
     },
     "execution_count": 18,
     "metadata": {},
     "output_type": "execute_result"
    }
   ],
   "source": [
    "data['class'].unique() # OK only two classes: frauds and legit transactions"
   ]
  },
  {
   "cell_type": "markdown",
   "metadata": {},
   "source": [
    "###### Data appear all admissible. No further action requested as data cleaning"
   ]
  },
  {
   "cell_type": "markdown",
   "metadata": {},
   "source": [
    "# FEATURES ENGINEERING"
   ]
  },
  {
   "cell_type": "code",
   "execution_count": 19,
   "metadata": {
    "collapsed": true
   },
   "outputs": [],
   "source": [
    "#Difference between signup time and purchase time\n",
    "data['diff_time'] = (data['purchase_time'] - data['signup_time'])/np.timedelta64(1, 's')"
   ]
  },
  {
   "cell_type": "code",
   "execution_count": 20,
   "metadata": {
    "collapsed": true
   },
   "outputs": [],
   "source": [
    "# Different user id's using the same device\n",
    "data['device_user_count'] = data.groupby('device_id')['user_id'].transform('count')"
   ]
  },
  {
   "cell_type": "code",
   "execution_count": 21,
   "metadata": {
    "collapsed": true
   },
   "outputs": [],
   "source": [
    "# Number of users' using a given ip address\n",
    "data['ip_count'] = data.groupby('ip_address')['user_id'].transform('count')"
   ]
  },
  {
   "cell_type": "code",
   "execution_count": 22,
   "metadata": {
    "collapsed": true
   },
   "outputs": [],
   "source": [
    "# We might expect these last two features to be highly correlated, in case of fraudolent activities. Therefore, should we decide\n",
    "#to use some linear model, one of the two should be dropped. On the contrary, using some kind of tree-based model, we will not have to \n",
    "#worry about it, because the model will take care of this problem, just ignoring one of the two variables."
   ]
  },
  {
   "cell_type": "code",
   "execution_count": 23,
   "metadata": {
    "collapsed": true
   },
   "outputs": [],
   "source": [
    "# sign_up day of the week\n",
    "data['signup_time_wd'] = data.signup_time.dt.dayofweek"
   ]
  },
  {
   "cell_type": "code",
   "execution_count": 24,
   "metadata": {
    "collapsed": true
   },
   "outputs": [],
   "source": [
    "# sign_up week of the year\n",
    "data['signup_time_wy'] = data.signup_time.dt.weekofyear"
   ]
  },
  {
   "cell_type": "code",
   "execution_count": 25,
   "metadata": {},
   "outputs": [
    {
     "data": {
      "text/html": [
       "<div>\n",
       "<style scoped>\n",
       "    .dataframe tbody tr th:only-of-type {\n",
       "        vertical-align: middle;\n",
       "    }\n",
       "\n",
       "    .dataframe tbody tr th {\n",
       "        vertical-align: top;\n",
       "    }\n",
       "\n",
       "    .dataframe thead th {\n",
       "        text-align: right;\n",
       "    }\n",
       "</style>\n",
       "<table border=\"1\" class=\"dataframe\">\n",
       "  <thead>\n",
       "    <tr style=\"text-align: right;\">\n",
       "      <th></th>\n",
       "      <th>user_id</th>\n",
       "      <th>signup_time</th>\n",
       "      <th>purchase_time</th>\n",
       "      <th>purchase_value</th>\n",
       "      <th>device_id</th>\n",
       "      <th>source</th>\n",
       "      <th>browser</th>\n",
       "      <th>sex</th>\n",
       "      <th>age</th>\n",
       "      <th>ip_address</th>\n",
       "      <th>class</th>\n",
       "      <th>country</th>\n",
       "      <th>diff_time</th>\n",
       "      <th>device_user_count</th>\n",
       "      <th>ip_count</th>\n",
       "      <th>signup_time_wd</th>\n",
       "      <th>signup_time_wy</th>\n",
       "    </tr>\n",
       "  </thead>\n",
       "  <tbody>\n",
       "    <tr>\n",
       "      <th>0</th>\n",
       "      <td>22058</td>\n",
       "      <td>2015-02-24 22:55:49</td>\n",
       "      <td>2015-04-18 02:47:11</td>\n",
       "      <td>34</td>\n",
       "      <td>QVPSPJUOCKZAR</td>\n",
       "      <td>SEO</td>\n",
       "      <td>Chrome</td>\n",
       "      <td>M</td>\n",
       "      <td>39</td>\n",
       "      <td>7.327584e+08</td>\n",
       "      <td>0</td>\n",
       "      <td>Japan</td>\n",
       "      <td>4506682.0</td>\n",
       "      <td>1</td>\n",
       "      <td>1</td>\n",
       "      <td>1</td>\n",
       "      <td>9</td>\n",
       "    </tr>\n",
       "    <tr>\n",
       "      <th>1</th>\n",
       "      <td>333320</td>\n",
       "      <td>2015-06-07 20:39:50</td>\n",
       "      <td>2015-06-08 01:38:54</td>\n",
       "      <td>16</td>\n",
       "      <td>EOGFQPIZPYXFZ</td>\n",
       "      <td>Ads</td>\n",
       "      <td>Chrome</td>\n",
       "      <td>F</td>\n",
       "      <td>53</td>\n",
       "      <td>3.503114e+08</td>\n",
       "      <td>0</td>\n",
       "      <td>United States</td>\n",
       "      <td>17944.0</td>\n",
       "      <td>1</td>\n",
       "      <td>1</td>\n",
       "      <td>6</td>\n",
       "      <td>23</td>\n",
       "    </tr>\n",
       "    <tr>\n",
       "      <th>2</th>\n",
       "      <td>1359</td>\n",
       "      <td>2015-01-01 18:52:44</td>\n",
       "      <td>2015-01-01 18:52:45</td>\n",
       "      <td>15</td>\n",
       "      <td>YSSKYOSJHPPLJ</td>\n",
       "      <td>SEO</td>\n",
       "      <td>Opera</td>\n",
       "      <td>M</td>\n",
       "      <td>53</td>\n",
       "      <td>2.621474e+09</td>\n",
       "      <td>1</td>\n",
       "      <td>United States</td>\n",
       "      <td>1.0</td>\n",
       "      <td>12</td>\n",
       "      <td>12</td>\n",
       "      <td>3</td>\n",
       "      <td>1</td>\n",
       "    </tr>\n",
       "    <tr>\n",
       "      <th>3</th>\n",
       "      <td>150084</td>\n",
       "      <td>2015-04-28 21:13:25</td>\n",
       "      <td>2015-05-04 13:54:50</td>\n",
       "      <td>44</td>\n",
       "      <td>ATGTXKYKUDUQN</td>\n",
       "      <td>SEO</td>\n",
       "      <td>Safari</td>\n",
       "      <td>M</td>\n",
       "      <td>41</td>\n",
       "      <td>3.840542e+09</td>\n",
       "      <td>0</td>\n",
       "      <td>0</td>\n",
       "      <td>492085.0</td>\n",
       "      <td>1</td>\n",
       "      <td>1</td>\n",
       "      <td>1</td>\n",
       "      <td>18</td>\n",
       "    </tr>\n",
       "    <tr>\n",
       "      <th>4</th>\n",
       "      <td>221365</td>\n",
       "      <td>2015-07-21 07:09:52</td>\n",
       "      <td>2015-09-09 18:40:53</td>\n",
       "      <td>39</td>\n",
       "      <td>NAUITBZFJKHWW</td>\n",
       "      <td>Ads</td>\n",
       "      <td>Safari</td>\n",
       "      <td>M</td>\n",
       "      <td>45</td>\n",
       "      <td>4.155831e+08</td>\n",
       "      <td>0</td>\n",
       "      <td>United States</td>\n",
       "      <td>4361461.0</td>\n",
       "      <td>1</td>\n",
       "      <td>1</td>\n",
       "      <td>1</td>\n",
       "      <td>30</td>\n",
       "    </tr>\n",
       "  </tbody>\n",
       "</table>\n",
       "</div>"
      ],
      "text/plain": [
       "   user_id         signup_time       purchase_time  purchase_value  \\\n",
       "0    22058 2015-02-24 22:55:49 2015-04-18 02:47:11              34   \n",
       "1   333320 2015-06-07 20:39:50 2015-06-08 01:38:54              16   \n",
       "2     1359 2015-01-01 18:52:44 2015-01-01 18:52:45              15   \n",
       "3   150084 2015-04-28 21:13:25 2015-05-04 13:54:50              44   \n",
       "4   221365 2015-07-21 07:09:52 2015-09-09 18:40:53              39   \n",
       "\n",
       "       device_id source browser sex  age    ip_address  class        country  \\\n",
       "0  QVPSPJUOCKZAR    SEO  Chrome   M   39  7.327584e+08      0          Japan   \n",
       "1  EOGFQPIZPYXFZ    Ads  Chrome   F   53  3.503114e+08      0  United States   \n",
       "2  YSSKYOSJHPPLJ    SEO   Opera   M   53  2.621474e+09      1  United States   \n",
       "3  ATGTXKYKUDUQN    SEO  Safari   M   41  3.840542e+09      0              0   \n",
       "4  NAUITBZFJKHWW    Ads  Safari   M   45  4.155831e+08      0  United States   \n",
       "\n",
       "   diff_time  device_user_count  ip_count  signup_time_wd  signup_time_wy  \n",
       "0  4506682.0                  1         1               1               9  \n",
       "1    17944.0                  1         1               6              23  \n",
       "2        1.0                 12        12               3               1  \n",
       "3   492085.0                  1         1               1              18  \n",
       "4  4361461.0                  1         1               1              30  "
      ]
     },
     "execution_count": 25,
     "metadata": {},
     "output_type": "execute_result"
    }
   ],
   "source": [
    "# Explore modified data structure\n",
    "data.head()"
   ]
  },
  {
   "cell_type": "code",
   "execution_count": 26,
   "metadata": {
    "scrolled": false
   },
   "outputs": [
    {
     "data": {
      "text/plain": [
       "array(['0', '0', '0', ..., 'Zimbabwe', 'Zimbabwe', 'Zimbabwe'], dtype=object)"
      ]
     },
     "execution_count": 26,
     "metadata": {},
     "output_type": "execute_result"
    }
   ],
   "source": [
    "np.sort(data['country']) # despite having no missing values, some countries are in fact missing and indentified with string'O'"
   ]
  },
  {
   "cell_type": "markdown",
   "metadata": {},
   "source": [
    "###### Replace 0 in countries with 'Not Found'"
   ]
  },
  {
   "cell_type": "code",
   "execution_count": 27,
   "metadata": {
    "collapsed": true,
    "scrolled": true
   },
   "outputs": [],
   "source": [
    "data['country'] =data['country'].replace('0', 'Not Found') "
   ]
  },
  {
   "cell_type": "code",
   "execution_count": 28,
   "metadata": {
    "collapsed": true
   },
   "outputs": [],
   "source": [
    "#Keep only the top 50 countries\n",
    "#Replace everything else with 'Other'\n",
    "top_50 = list(data.groupby('country')[['user_id']].count().sort_values('user_id', ascending = False).index)[0:50]\n",
    "top_50 =top_50[0:1] + top_50[2:] # remove not found from the list"
   ]
  },
  {
   "cell_type": "code",
   "execution_count": 29,
   "metadata": {
    "collapsed": true
   },
   "outputs": [],
   "source": [
    "data['country_revised'] = np.where(data['country'].isin(top_50), data.country, 'other')"
   ]
  },
  {
   "cell_type": "markdown",
   "metadata": {},
   "source": [
    "# Exploratory data analysis (EDA)"
   ]
  },
  {
   "cell_type": "code",
   "execution_count": 30,
   "metadata": {
    "scrolled": true
   },
   "outputs": [
    {
     "name": "stdout",
     "output_type": "stream",
     "text": [
      "Fraud cases: 14151\n",
      "Valid cases: 136961\n"
     ]
    }
   ],
   "source": [
    "#determine the number of frauds in the dataset\n",
    "fraud = data[data['class']==1]\n",
    "valid = data[data['class']==0]\n",
    "print('Fraud cases: {}'.format(len(fraud)))\n",
    "print('Valid cases: {}'.format(len(valid)))"
   ]
  },
  {
   "cell_type": "code",
   "execution_count": 31,
   "metadata": {},
   "outputs": [
    {
     "name": "stdout",
     "output_type": "stream",
     "text": [
      "9.364577267192546\n",
      "% of frauds\n"
     ]
    }
   ],
   "source": [
    "print(data['class'].mean()*100)\n",
    "print('% of frauds')\n"
   ]
  },
  {
   "cell_type": "markdown",
   "metadata": {},
   "source": [
    "# Building a Machine Learning Model"
   ]
  },
  {
   "cell_type": "code",
   "execution_count": 32,
   "metadata": {
    "collapsed": true
   },
   "outputs": [],
   "source": [
    "#Response Variable\n",
    "y = data['class']"
   ]
  },
  {
   "cell_type": "code",
   "execution_count": 33,
   "metadata": {
    "collapsed": true
   },
   "outputs": [],
   "source": [
    "#Feature matrix dropping all useless columns\n",
    "X = data.drop(['user_id', 'signup_time','purchase_time','class', 'device_id', 'country', 'ip_address'], axis = 1)"
   ]
  },
  {
   "cell_type": "code",
   "execution_count": 34,
   "metadata": {
    "collapsed": true
   },
   "outputs": [],
   "source": [
    "# Explore feature matrix X"
   ]
  },
  {
   "cell_type": "code",
   "execution_count": 35,
   "metadata": {},
   "outputs": [
    {
     "data": {
      "text/html": [
       "<div>\n",
       "<style scoped>\n",
       "    .dataframe tbody tr th:only-of-type {\n",
       "        vertical-align: middle;\n",
       "    }\n",
       "\n",
       "    .dataframe tbody tr th {\n",
       "        vertical-align: top;\n",
       "    }\n",
       "\n",
       "    .dataframe thead th {\n",
       "        text-align: right;\n",
       "    }\n",
       "</style>\n",
       "<table border=\"1\" class=\"dataframe\">\n",
       "  <thead>\n",
       "    <tr style=\"text-align: right;\">\n",
       "      <th></th>\n",
       "      <th>purchase_value</th>\n",
       "      <th>source</th>\n",
       "      <th>browser</th>\n",
       "      <th>sex</th>\n",
       "      <th>age</th>\n",
       "      <th>diff_time</th>\n",
       "      <th>device_user_count</th>\n",
       "      <th>ip_count</th>\n",
       "      <th>signup_time_wd</th>\n",
       "      <th>signup_time_wy</th>\n",
       "      <th>country_revised</th>\n",
       "    </tr>\n",
       "  </thead>\n",
       "  <tbody>\n",
       "    <tr>\n",
       "      <th>0</th>\n",
       "      <td>34</td>\n",
       "      <td>SEO</td>\n",
       "      <td>Chrome</td>\n",
       "      <td>M</td>\n",
       "      <td>39</td>\n",
       "      <td>4506682.0</td>\n",
       "      <td>1</td>\n",
       "      <td>1</td>\n",
       "      <td>1</td>\n",
       "      <td>9</td>\n",
       "      <td>Japan</td>\n",
       "    </tr>\n",
       "    <tr>\n",
       "      <th>1</th>\n",
       "      <td>16</td>\n",
       "      <td>Ads</td>\n",
       "      <td>Chrome</td>\n",
       "      <td>F</td>\n",
       "      <td>53</td>\n",
       "      <td>17944.0</td>\n",
       "      <td>1</td>\n",
       "      <td>1</td>\n",
       "      <td>6</td>\n",
       "      <td>23</td>\n",
       "      <td>United States</td>\n",
       "    </tr>\n",
       "    <tr>\n",
       "      <th>2</th>\n",
       "      <td>15</td>\n",
       "      <td>SEO</td>\n",
       "      <td>Opera</td>\n",
       "      <td>M</td>\n",
       "      <td>53</td>\n",
       "      <td>1.0</td>\n",
       "      <td>12</td>\n",
       "      <td>12</td>\n",
       "      <td>3</td>\n",
       "      <td>1</td>\n",
       "      <td>United States</td>\n",
       "    </tr>\n",
       "    <tr>\n",
       "      <th>3</th>\n",
       "      <td>44</td>\n",
       "      <td>SEO</td>\n",
       "      <td>Safari</td>\n",
       "      <td>M</td>\n",
       "      <td>41</td>\n",
       "      <td>492085.0</td>\n",
       "      <td>1</td>\n",
       "      <td>1</td>\n",
       "      <td>1</td>\n",
       "      <td>18</td>\n",
       "      <td>other</td>\n",
       "    </tr>\n",
       "    <tr>\n",
       "      <th>4</th>\n",
       "      <td>39</td>\n",
       "      <td>Ads</td>\n",
       "      <td>Safari</td>\n",
       "      <td>M</td>\n",
       "      <td>45</td>\n",
       "      <td>4361461.0</td>\n",
       "      <td>1</td>\n",
       "      <td>1</td>\n",
       "      <td>1</td>\n",
       "      <td>30</td>\n",
       "      <td>United States</td>\n",
       "    </tr>\n",
       "  </tbody>\n",
       "</table>\n",
       "</div>"
      ],
      "text/plain": [
       "   purchase_value source browser sex  age  diff_time  device_user_count  \\\n",
       "0              34    SEO  Chrome   M   39  4506682.0                  1   \n",
       "1              16    Ads  Chrome   F   53    17944.0                  1   \n",
       "2              15    SEO   Opera   M   53        1.0                 12   \n",
       "3              44    SEO  Safari   M   41   492085.0                  1   \n",
       "4              39    Ads  Safari   M   45  4361461.0                  1   \n",
       "\n",
       "   ip_count  signup_time_wd  signup_time_wy country_revised  \n",
       "0         1               1               9           Japan  \n",
       "1         1               6              23   United States  \n",
       "2        12               3               1   United States  \n",
       "3         1               1              18           other  \n",
       "4         1               1              30   United States  "
      ]
     },
     "execution_count": 35,
     "metadata": {},
     "output_type": "execute_result"
    }
   ],
   "source": [
    "X.head()"
   ]
  },
  {
   "cell_type": "code",
   "execution_count": 36,
   "metadata": {
    "scrolled": true
   },
   "outputs": [
    {
     "data": {
      "text/plain": [
       "purchase_value       0\n",
       "source               0\n",
       "browser              0\n",
       "sex                  0\n",
       "age                  0\n",
       "diff_time            0\n",
       "device_user_count    0\n",
       "ip_count             0\n",
       "signup_time_wd       0\n",
       "signup_time_wy       0\n",
       "country_revised      0\n",
       "dtype: int64"
      ]
     },
     "execution_count": 36,
     "metadata": {},
     "output_type": "execute_result"
    }
   ],
   "source": [
    "#Verify that feature matrix contains only numerical values and that no missing values are present\n",
    "X.isnull().sum()"
   ]
  },
  {
   "cell_type": "markdown",
   "metadata": {},
   "source": [
    "## Label Encoding of categorical variables"
   ]
  },
  {
   "cell_type": "code",
   "execution_count": 37,
   "metadata": {
    "collapsed": true
   },
   "outputs": [],
   "source": [
    "from sklearn.preprocessing import LabelEncoder #import the class\n",
    "lb=LabelEncoder() #instatntiate the object\n",
    "for feature in X.select_dtypes(include='O').columns.values: #loop inside feature matrix, encoding only categorical varaibles\n",
    "    X[feature] = lb.fit_transform(X[feature])    "
   ]
  },
  {
   "cell_type": "code",
   "execution_count": 38,
   "metadata": {
    "scrolled": true
   },
   "outputs": [
    {
     "data": {
      "text/html": [
       "<div>\n",
       "<style scoped>\n",
       "    .dataframe tbody tr th:only-of-type {\n",
       "        vertical-align: middle;\n",
       "    }\n",
       "\n",
       "    .dataframe tbody tr th {\n",
       "        vertical-align: top;\n",
       "    }\n",
       "\n",
       "    .dataframe thead th {\n",
       "        text-align: right;\n",
       "    }\n",
       "</style>\n",
       "<table border=\"1\" class=\"dataframe\">\n",
       "  <thead>\n",
       "    <tr style=\"text-align: right;\">\n",
       "      <th></th>\n",
       "      <th>purchase_value</th>\n",
       "      <th>source</th>\n",
       "      <th>browser</th>\n",
       "      <th>sex</th>\n",
       "      <th>age</th>\n",
       "      <th>diff_time</th>\n",
       "      <th>device_user_count</th>\n",
       "      <th>ip_count</th>\n",
       "      <th>signup_time_wd</th>\n",
       "      <th>signup_time_wy</th>\n",
       "      <th>country_revised</th>\n",
       "    </tr>\n",
       "  </thead>\n",
       "  <tbody>\n",
       "    <tr>\n",
       "      <th>0</th>\n",
       "      <td>34</td>\n",
       "      <td>2</td>\n",
       "      <td>0</td>\n",
       "      <td>1</td>\n",
       "      <td>39</td>\n",
       "      <td>4506682.0</td>\n",
       "      <td>1</td>\n",
       "      <td>1</td>\n",
       "      <td>1</td>\n",
       "      <td>9</td>\n",
       "      <td>25</td>\n",
       "    </tr>\n",
       "    <tr>\n",
       "      <th>1</th>\n",
       "      <td>16</td>\n",
       "      <td>0</td>\n",
       "      <td>0</td>\n",
       "      <td>0</td>\n",
       "      <td>53</td>\n",
       "      <td>17944.0</td>\n",
       "      <td>1</td>\n",
       "      <td>1</td>\n",
       "      <td>6</td>\n",
       "      <td>23</td>\n",
       "      <td>46</td>\n",
       "    </tr>\n",
       "    <tr>\n",
       "      <th>2</th>\n",
       "      <td>15</td>\n",
       "      <td>2</td>\n",
       "      <td>3</td>\n",
       "      <td>1</td>\n",
       "      <td>53</td>\n",
       "      <td>1.0</td>\n",
       "      <td>12</td>\n",
       "      <td>12</td>\n",
       "      <td>3</td>\n",
       "      <td>1</td>\n",
       "      <td>46</td>\n",
       "    </tr>\n",
       "    <tr>\n",
       "      <th>3</th>\n",
       "      <td>44</td>\n",
       "      <td>2</td>\n",
       "      <td>4</td>\n",
       "      <td>1</td>\n",
       "      <td>41</td>\n",
       "      <td>492085.0</td>\n",
       "      <td>1</td>\n",
       "      <td>1</td>\n",
       "      <td>1</td>\n",
       "      <td>18</td>\n",
       "      <td>49</td>\n",
       "    </tr>\n",
       "    <tr>\n",
       "      <th>4</th>\n",
       "      <td>39</td>\n",
       "      <td>0</td>\n",
       "      <td>4</td>\n",
       "      <td>1</td>\n",
       "      <td>45</td>\n",
       "      <td>4361461.0</td>\n",
       "      <td>1</td>\n",
       "      <td>1</td>\n",
       "      <td>1</td>\n",
       "      <td>30</td>\n",
       "      <td>46</td>\n",
       "    </tr>\n",
       "  </tbody>\n",
       "</table>\n",
       "</div>"
      ],
      "text/plain": [
       "   purchase_value  source  browser  sex  age  diff_time  device_user_count  \\\n",
       "0              34       2        0    1   39  4506682.0                  1   \n",
       "1              16       0        0    0   53    17944.0                  1   \n",
       "2              15       2        3    1   53        1.0                 12   \n",
       "3              44       2        4    1   41   492085.0                  1   \n",
       "4              39       0        4    1   45  4361461.0                  1   \n",
       "\n",
       "   ip_count  signup_time_wd  signup_time_wy  country_revised  \n",
       "0         1               1               9               25  \n",
       "1         1               6              23               46  \n",
       "2        12               3               1               46  \n",
       "3         1               1              18               49  \n",
       "4         1               1              30               46  "
      ]
     },
     "execution_count": 38,
     "metadata": {},
     "output_type": "execute_result"
    }
   ],
   "source": [
    "#Explore the feature matrix processed to be fed to a ML model\n",
    "X.head()"
   ]
  },
  {
   "cell_type": "markdown",
   "metadata": {},
   "source": [
    "# RANDOM FOREST"
   ]
  },
  {
   "cell_type": "code",
   "execution_count": 39,
   "metadata": {
    "collapsed": true
   },
   "outputs": [],
   "source": [
    "from sklearn.model_selection import train_test_split\n",
    "X_train, X_test, y_train, y_test = train_test_split(X,y, test_size = 0.33) # split the data in train and test sets"
   ]
  },
  {
   "cell_type": "code",
   "execution_count": 40,
   "metadata": {
    "collapsed": true
   },
   "outputs": [],
   "source": [
    "from sklearn.ensemble import RandomForestClassifier\n",
    "rf = RandomForestClassifier(n_estimators= 50, max_features=3, n_jobs=-1, oob_score=True, random_state=23 )\n",
    "# parameters selection:\n",
    "# n_estimators =50 to speed up process time and obtain acceptable results\n",
    "# max_features set equal to 3 to reduce chance of overfitting\n",
    "# n_jobs=-1 to exploit all cores\n",
    "# oob_score = True to exploit internal cross validation tool of RF classifier\n",
    "# random_state = 23 for reproducibility (MJ number)"
   ]
  },
  {
   "cell_type": "code",
   "execution_count": 41,
   "metadata": {
    "scrolled": true
   },
   "outputs": [
    {
     "data": {
      "text/plain": [
       "RandomForestClassifier(bootstrap=True, class_weight=None, criterion='gini',\n",
       "            max_depth=None, max_features=3, max_leaf_nodes=None,\n",
       "            min_impurity_decrease=0.0, min_impurity_split=None,\n",
       "            min_samples_leaf=1, min_samples_split=2,\n",
       "            min_weight_fraction_leaf=0.0, n_estimators=50, n_jobs=-1,\n",
       "            oob_score=True, random_state=23, verbose=0, warm_start=False)"
      ]
     },
     "execution_count": 41,
     "metadata": {},
     "output_type": "execute_result"
    }
   ],
   "source": [
    "# train the model\n",
    "rf.fit(X_train, y_train)"
   ]
  },
  {
   "cell_type": "code",
   "execution_count": 42,
   "metadata": {
    "scrolled": true
   },
   "outputs": [
    {
     "name": "stdout",
     "output_type": "stream",
     "text": [
      "TRAINING ACCURACY: 0.9994\n"
     ]
    }
   ],
   "source": [
    "acc = rf.score(X_train, y_train)\n",
    "print('TRAINING ACCURACY: %.4f' % acc) "
   ]
  },
  {
   "cell_type": "markdown",
   "metadata": {},
   "source": [
    "###### training accuracy very high, no chance of underfitting, model no-biased"
   ]
  },
  {
   "cell_type": "code",
   "execution_count": 43,
   "metadata": {
    "scrolled": true
   },
   "outputs": [
    {
     "name": "stdout",
     "output_type": "stream",
     "text": [
      "CROSS VALIDATION ACCURACY: 0.9560\n"
     ]
    }
   ],
   "source": [
    "acc = rf.oob_score_\n",
    "print('CROSS VALIDATION ACCURACY: %.4f' % acc) "
   ]
  },
  {
   "cell_type": "markdown",
   "metadata": {},
   "source": [
    "###### cv accuracy close to training accuracy, no overfitting"
   ]
  },
  {
   "cell_type": "code",
   "execution_count": 44,
   "metadata": {
    "scrolled": false
   },
   "outputs": [
    {
     "name": "stdout",
     "output_type": "stream",
     "text": [
      "TEST ACCURACY: 0.9557\n"
     ]
    }
   ],
   "source": [
    "acc = rf.score(X_test, y_test)\n",
    "print('TEST ACCURACY: %.4f' % acc) "
   ]
  },
  {
   "cell_type": "markdown",
   "metadata": {},
   "source": [
    "###### Calculate, for comparison, null-accuracy, i.e. most predicted class percentage"
   ]
  },
  {
   "cell_type": "code",
   "execution_count": 45,
   "metadata": {},
   "outputs": [
    {
     "name": "stdout",
     "output_type": "stream",
     "text": [
      "Null Accuracy: 0.9046\n"
     ]
    }
   ],
   "source": [
    "Null_Accuracy = max(y_test.mean(), 1-y_test.mean()) #Binary Classification\n",
    "print('Null Accuracy: %.4f' % Null_Accuracy) # Baseline for model evaluation"
   ]
  },
  {
   "cell_type": "markdown",
   "metadata": {},
   "source": [
    "###### Accuracy model appear good, when compared with null accuracy. Nevertheless is necessasry to deepen results"
   ]
  },
  {
   "cell_type": "code",
   "execution_count": 46,
   "metadata": {
    "collapsed": true
   },
   "outputs": [],
   "source": [
    "# Store model predictions in a new object for further analysis\n",
    "y_pred = rf.predict(X_test)"
   ]
  },
  {
   "cell_type": "code",
   "execution_count": 47,
   "metadata": {
    "collapsed": true
   },
   "outputs": [],
   "source": [
    "# import classes to perform confusion metric and classification report\n",
    "from sklearn.metrics import confusion_matrix, classification_report"
   ]
  },
  {
   "cell_type": "code",
   "execution_count": 48,
   "metadata": {
    "scrolled": true
   },
   "outputs": [
    {
     "name": "stdout",
     "output_type": "stream",
     "text": [
      "             precision    recall  f1-score   support\n",
      "\n",
      "          0       0.95      1.00      0.98     45112\n",
      "          1       0.99      0.54      0.70      4755\n",
      "\n",
      "avg / total       0.96      0.96      0.95     49867\n",
      "\n"
     ]
    }
   ],
   "source": [
    "print (classification_report(y_test, y_pred))"
   ]
  },
  {
   "cell_type": "code",
   "execution_count": 49,
   "metadata": {
    "scrolled": false
   },
   "outputs": [
    {
     "name": "stdout",
     "output_type": "stream",
     "text": [
      "[[45075    37]\n",
      " [ 2172  2583]]\n"
     ]
    }
   ],
   "source": [
    "print (confusion_matrix(y_test, y_pred))"
   ]
  },
  {
   "cell_type": "markdown",
   "metadata": {},
   "source": [
    "###### Recall is as low as 0.54. Therefore the model is able to catch only 54% of frauds : 2155 frauds (FN) are not detected.\n",
    "###### Precision is 0.98. The model is correct in classifying frauds 98% of the times: only 51 (FP) transactions labelled as fraud are, in fact, legit operations. \n",
    "###### Recall's model is unsufficient. Must be rised, even at cost of losing in precision. A ROC analysis can help to improve threshold"
   ]
  },
  {
   "cell_type": "markdown",
   "metadata": {},
   "source": [
    "# ROC analysis"
   ]
  },
  {
   "cell_type": "code",
   "execution_count": 50,
   "metadata": {
    "scrolled": false
   },
   "outputs": [
    {
     "data": {
      "text/plain": [
       "array([ 0.08,  0.06,  0.14, ...,  0.  ,  0.  ,  0.  ])"
      ]
     },
     "execution_count": 50,
     "metadata": {},
     "output_type": "execute_result"
    }
   ],
   "source": [
    "# Calculate class predicted probability\n",
    "prob_score = rf.predict_proba(X_test)\n",
    "prob_score[:,1]"
   ]
  },
  {
   "cell_type": "code",
   "execution_count": 51,
   "metadata": {
    "scrolled": false
   },
   "outputs": [
    {
     "name": "stdout",
     "output_type": "stream",
     "text": [
      "Random Forest AUC = 0.85\n"
     ]
    }
   ],
   "source": [
    "from sklearn.metrics import roc_auc_score, roc_curve, auc\n",
    "rf_roc_auc = roc_auc_score(y_test,prob_score[:,1])\n",
    "print (\"Random Forest AUC = %.2f\" % rf_roc_auc)"
   ]
  },
  {
   "cell_type": "code",
   "execution_count": 52,
   "metadata": {},
   "outputs": [
    {
     "data": {
      "image/png": "[encoded data removed]",
      "text/plain": [
       "<matplotlib.figure.Figure at 0x24dead94940>"
      ]
     },
     "metadata": {},
     "output_type": "display_data"
    }
   ],
   "source": [
    "#Plotting the ROC curve\n",
    "fpr,tpr,thresholds = roc_curve(y_test, prob_score[:,1])\n",
    "plt.plot(fpr,tpr, color = 'darkorange', label='ROC curve (area = %0.2f)' % (rf_roc_auc))\n",
    "plt.plot([0, 1], [0, 1], 'k--')\n",
    "plt.xlim([-.05, 1.05])\n",
    "plt.ylim([-.05, 1.05])\n",
    "plt.xlabel('False Positive Rate')\n",
    "plt.ylabel('True Positive Rate')\n",
    "plt.title('ROC curve')\n",
    "plt.legend(loc=\"lower right\")\n",
    "plt.savefig('roc_and_threshold.png')\n",
    "\n",
    "# create the axis of thresholds (scores)\n",
    "ax2 = plt.gca().twinx()\n",
    "ax2.plot(fpr, thresholds, markeredgecolor='r',linestyle='dashed', color='r')\n",
    "ax2.set_ylabel('Threshold',color='r')\n",
    "ax2.set_ylim([thresholds[-1],thresholds[0]])\n",
    "ax2.set_xlim([fpr[0],fpr[-1]]);"
   ]
  },
  {
   "cell_type": "code",
   "execution_count": 53,
   "metadata": {},
   "outputs": [
    {
     "name": "stderr",
     "output_type": "stream",
     "text": [
      "C:\\Users\\raffa\\Anaconda3\\lib\\site-packages\\ipykernel_launcher.py:6: DeprecationWarning: \n",
      ".ix is deprecated. Please use\n",
      ".loc for label based indexing or\n",
      ".iloc for positional indexing\n",
      "\n",
      "See the documentation here:\n",
      "http://pandas.pydata.org/pandas-docs/stable/indexing.html#ix-indexer-is-deprecated\n",
      "  \n"
     ]
    },
    {
     "data": {
      "text/html": [
       "<div>\n",
       "<style scoped>\n",
       "    .dataframe tbody tr th:only-of-type {\n",
       "        vertical-align: middle;\n",
       "    }\n",
       "\n",
       "    .dataframe tbody tr th {\n",
       "        vertical-align: top;\n",
       "    }\n",
       "\n",
       "    .dataframe thead th {\n",
       "        text-align: right;\n",
       "    }\n",
       "</style>\n",
       "<table border=\"1\" class=\"dataframe\">\n",
       "  <thead>\n",
       "    <tr style=\"text-align: right;\">\n",
       "      <th></th>\n",
       "      <th>1-fpr</th>\n",
       "      <th>fpr</th>\n",
       "      <th>tf</th>\n",
       "      <th>thresholds</th>\n",
       "      <th>tpr</th>\n",
       "    </tr>\n",
       "  </thead>\n",
       "  <tbody>\n",
       "    <tr>\n",
       "      <th>35</th>\n",
       "      <td>0.802669</td>\n",
       "      <td>0.197331</td>\n",
       "      <td>-0.04452</td>\n",
       "      <td>0.08</td>\n",
       "      <td>0.758149</td>\n",
       "    </tr>\n",
       "  </tbody>\n",
       "</table>\n",
       "</div>"
      ],
      "text/plain": [
       "       1-fpr       fpr       tf  thresholds       tpr\n",
       "35  0.802669  0.197331 -0.04452        0.08  0.758149"
      ]
     },
     "execution_count": 53,
     "metadata": {},
     "output_type": "execute_result"
    }
   ],
   "source": [
    "# Optimize threshold to increase Recall\n",
    "#ROC Analysis\n",
    "i = np.arange(len(fpr))\n",
    "roc = pd.DataFrame({'fpr' : pd.Series(fpr, index=i),'tpr' : pd.Series(tpr, index = i), '1-fpr' : pd.Series(1-fpr, index = i), \n",
    "                    'tf' : pd.Series(tpr - (1-fpr), index = i), 'thresholds' : pd.Series(thresholds, index = i)})\n",
    "roc.ix[(roc['tf']-0).abs().argsort()[[0]]]"
   ]
  },
  {
   "cell_type": "code",
   "execution_count": 54,
   "metadata": {
    "collapsed": true
   },
   "outputs": [],
   "source": [
    "# Rebuilding the random forest model reducing threshold to classify class 1 as low as 0.08"
   ]
  },
  {
   "cell_type": "code",
   "execution_count": 55,
   "metadata": {
    "collapsed": true
   },
   "outputs": [],
   "source": [
    "# Rebuilding the random forest model reducing threshold to classify class '1' as low as 0.08\n",
    "prob = rf.predict_proba(X_test)[:,1]\n",
    "prob[prob > 0.08] = 1\n",
    "prob[prob <= 0.08] = 0"
   ]
  },
  {
   "cell_type": "code",
   "execution_count": 56,
   "metadata": {
    "scrolled": false
   },
   "outputs": [
    {
     "name": "stdout",
     "output_type": "stream",
     "text": [
      "             precision    recall  f1-score   support\n",
      "\n",
      "          0       0.97      0.87      0.92     45112\n",
      "          1       0.37      0.73      0.49      4755\n",
      "\n",
      "avg / total       0.91      0.86      0.88     49867\n",
      "\n"
     ]
    }
   ],
   "source": [
    "print (classification_report(y_test, prob))"
   ]
  },
  {
   "cell_type": "code",
   "execution_count": 57,
   "metadata": {
    "scrolled": true
   },
   "outputs": [
    {
     "name": "stdout",
     "output_type": "stream",
     "text": [
      "[[39155  5957]\n",
      " [ 1261  3494]]\n"
     ]
    }
   ],
   "source": [
    "print (confusion_matrix(y_test, prob))"
   ]
  },
  {
   "cell_type": "code",
   "execution_count": 58,
   "metadata": {
    "scrolled": true
   },
   "outputs": [
    {
     "name": "stdout",
     "output_type": "stream",
     "text": [
      "Random Forest AUC = 0.80\n"
     ]
    }
   ],
   "source": [
    "rf_roc_auc = roc_auc_score(y_test, prob)\n",
    "print (\"Random Forest AUC = %2.2f\" % rf_roc_auc)"
   ]
  },
  {
   "cell_type": "markdown",
   "metadata": {},
   "source": [
    "###### Recall went up to 73%. Lowering the threshold allowed the model to catch ca 3/4 of the frauds. Now only 1260 frauds go troughh undetected.\n",
    "###### This, though, happened at the expenses of Precision which went down to 0.36. Now 6026 legit transactions are labelled as frauds."
   ]
  },
  {
   "cell_type": "markdown",
   "metadata": {},
   "source": [
    "# MODEL INSIGHTS"
   ]
  },
  {
   "cell_type": "markdown",
   "metadata": {},
   "source": [
    "###### Utilize feature importances attributes automatically generated by the model to rank the importance of all features"
   ]
  },
  {
   "cell_type": "code",
   "execution_count": 59,
   "metadata": {
    "scrolled": true
   },
   "outputs": [
    {
     "data": {
      "image/png": "[encoded data removed]",
      "text/plain": [
       "<matplotlib.figure.Figure at 0x24deb78d6d8>"
      ]
     },
     "metadata": {},
     "output_type": "display_data"
    }
   ],
   "source": [
    "#Variables importance\n",
    "rf.feature_importances_\n",
    "feature_importances = pd.Series(rf.feature_importances_, index=X.columns).sort_values().plot(kind='barh', figsize=(10,5))"
   ]
  },
  {
   "cell_type": "code",
   "execution_count": 60,
   "metadata": {
    "scrolled": true
   },
   "outputs": [
    {
     "name": "stdout",
     "output_type": "stream",
     "text": [
      "(0.31428262953989722, 'diff_time')\n",
      "(0.18110992023554678, 'ip_count')\n",
      "(0.12073861056189605, 'device_user_count')\n",
      "(0.10711453972310975, 'signup_time_wy')\n",
      "(0.079325010217376757, 'purchase_value')\n",
      "(0.068946908888901426, 'age')\n",
      "(0.044966542430791706, 'country_revised')\n",
      "(0.032868596113303179, 'signup_time_wd')\n",
      "(0.024809231233367698, 'browser')\n",
      "(0.01461436764943679, 'source')\n",
      "(0.01122364340637263, 'sex')\n"
     ]
    }
   ],
   "source": [
    "for v in sorted(zip(rf.feature_importances_, X),reverse=True):     \n",
    "    print (v) "
   ]
  },
  {
   "cell_type": "markdown",
   "metadata": {},
   "source": [
    "###### The most sensible predictors of fraudent behavior are the engineered feature 'diff time' and the number of 'ip count'. \n",
    "###### we can use a decision tree model to check the first 3/4 depths level and gain some insights"
   ]
  },
  {
   "cell_type": "markdown",
   "metadata": {},
   "source": [
    "# DECISION TREE FOR MAIN SPLITS"
   ]
  },
  {
   "cell_type": "code",
   "execution_count": 61,
   "metadata": {
    "collapsed": true
   },
   "outputs": [],
   "source": [
    "from sklearn.tree import DecisionTreeClassifier, export_graphviz\n",
    "\n",
    "tree = DecisionTreeClassifier(random_state=0, criterion = 'entropy', max_depth = 4)\n",
    "tree.fit(X, y)\n",
    "export_graphviz(tree, out_file='tree.dot', feature_names=X.columns, class_names=[' legits', 'frauds'],\n",
    "               impurity=False, filled=True, node_ids= True, proportion=False)"
   ]
  },
  {
   "cell_type": "code",
   "execution_count": 62,
   "metadata": {
    "scrolled": false
   },
   "outputs": [
    {
     "data": {
      "image/png": "[encoded data removed]",
      "text/plain": [
       "<IPython.core.display.Image object>"
      ]
     },
     "execution_count": 62,
     "metadata": {},
     "output_type": "execute_result"
    }
   ],
   "source": [
    "from IPython.display import Image\n",
    "Image(filename='tree.png') "
   ]
  },
  {
   "cell_type": "code",
   "execution_count": 63,
   "metadata": {
    "collapsed": true
   },
   "outputs": [],
   "source": [
    "# According to tree's splits, the most important variable is, by far, the difference time between sign up and first purchase.\n",
    "# Whenever lesser than 70 seconds is an astonishing 100% fraud. No surprise, though, if matched with real life, considered that performing the\n",
    "# first purchase should require some time to the user to get accustomed with the website. As high as half of the frauds lay inside this cluster.\n",
    "\n",
    "# Among the remaining ones another consistent chunk of frauds is identified within those users, that, despite having only one IP and purchasing\n",
    "# throug just a single device, within around three months, purchased something whose value is below the 106.5$.\n",
    "\n",
    "# Numbers of device, Numbers of IP show a behaviour a bit unexpected. Most of the frauds performed by these categories are related to \n",
    "# users with 2-3-4 devices. We might have expected a very strong relation with higher numbers of devices.\n",
    "# Among this bucket some influence seems to  be exerted by the source, with fraudsters landing on the site through Ads and Directs.\n"
   ]
  },
  {
   "cell_type": "markdown",
   "metadata": {},
   "source": [
    "# ANOMALY DETECTION"
   ]
  },
  {
   "cell_type": "markdown",
   "metadata": {},
   "source": [
    "###### Let's use AD approach to compare results"
   ]
  },
  {
   "cell_type": "code",
   "execution_count": 64,
   "metadata": {
    "scrolled": true
   },
   "outputs": [
    {
     "data": {
      "image/png": "[encoded data removed]",
      "text/plain": [
       "<matplotlib.figure.Figure at 0x24deba4ab70>"
      ]
     },
     "metadata": {},
     "output_type": "display_data"
    }
   ],
   "source": [
    "#plot histograms\n",
    "X.hist(figsize=(20,20))\n",
    "plt.show();"
   ]
  },
  {
   "cell_type": "code",
   "execution_count": 65,
   "metadata": {},
   "outputs": [
    {
     "name": "stdout",
     "output_type": "stream",
     "text": [
      "Fraction of outlier: 0.10332138345952498\n"
     ]
    }
   ],
   "source": [
    "#determine the number of outliers in the dataset\n",
    "outlier_fraction = len(fraud)/float((len(valid)))\n",
    "print('Fraction of outlier: {}'.format(outlier_fraction))"
   ]
  },
  {
   "cell_type": "code",
   "execution_count": 66,
   "metadata": {},
   "outputs": [
    {
     "data": {
      "image/png": "[encoded data removed]",
      "text/plain": [
       "<matplotlib.figure.Figure at 0x24deb78dbe0>"
      ]
     },
     "metadata": {},
     "output_type": "display_data"
    }
   ],
   "source": [
    "#correlation matrix, check the existence of strong correlation between variables\n",
    "corrmat = data.corr()\n",
    "fig = plt.figure(figsize=(12,6))\n",
    "sns.heatmap(corrmat, square=True, vmax=0.8);"
   ]
  },
  {
   "cell_type": "code",
   "execution_count": 67,
   "metadata": {
    "collapsed": true
   },
   "outputs": [],
   "source": [
    "# Import anomaly detection common classifiers\n",
    "from sklearn.ensemble import IsolationForest\n",
    "from sklearn.neighbors import LocalOutlierFactor\n",
    "\n",
    "# Import accuracy score metrics\n",
    "from sklearn.metrics import accuracy_score"
   ]
  },
  {
   "cell_type": "code",
   "execution_count": 68,
   "metadata": {
    "collapsed": true
   },
   "outputs": [],
   "source": [
    "# define the outlier detection method\n",
    "classifiers = {\n",
    "    \"Isolation forest\": IsolationForest(max_samples=len(X),\n",
    "                                       contamination= outlier_fraction,\n",
    "                                       n_jobs=-1,\n",
    "                                       random_state= 23),\n",
    "    \"Local Outlier Factor\": LocalOutlierFactor(n_neighbors=20,\n",
    "                                              contamination= outlier_fraction)\n",
    "    \n",
    "}"
   ]
  },
  {
   "cell_type": "code",
   "execution_count": 69,
   "metadata": {
    "scrolled": false
   },
   "outputs": [
    {
     "name": "stdout",
     "output_type": "stream",
     "text": [
      " Model Isolation forest: n_errors14390\n",
      "Accuracy score:0.9047726189845942\n",
      "Classification report:             precision    recall  f1-score   support\n",
      "\n",
      "          0       0.95      0.94      0.95    136961\n",
      "          1       0.49      0.54      0.52     14151\n",
      "\n",
      "avg / total       0.91      0.90      0.91    151112\n",
      "\n",
      "Confusion Matrix: \n",
      "[[129035   7926]\n",
      " [  6464   7687]]\n",
      "\n",
      "\n",
      " Model Local Outlier Factor: n_errors24336\n",
      "Accuracy score:0.8389538885065382\n",
      "Classification report:             precision    recall  f1-score   support\n",
      "\n",
      "          0       0.92      0.91      0.91    136961\n",
      "          1       0.17      0.19      0.18     14151\n",
      "\n",
      "avg / total       0.85      0.84      0.84    151112\n",
      "\n",
      "Confusion Matrix: \n",
      "[[124062  12899]\n",
      " [ 11437   2714]]\n",
      "\n",
      "\n"
     ]
    }
   ],
   "source": [
    "#fit the model\n",
    "n_outliers = len(fraud)\n",
    "for i, (clf_name, clf) in enumerate(classifiers.items()): # enumerate to loop through classifiers and extraxcting from dictionary\n",
    "    \n",
    "    #fix the data and tag  outliers\n",
    "    if clf_name == 'Local Outlier Factor':\n",
    "        y_pred = clf.fit_predict(X)\n",
    "        scores_pred = clf.negative_outlier_factor_\n",
    "    else:\n",
    "        clf.fit(X)\n",
    "        scores_pred = clf.decision_function(X)\n",
    "        y_pred = clf.predict(X)\n",
    "     \n",
    "    # reshape the prediction values 0 for legit, 1 for fraud\n",
    "    y_pred[y_pred==1] = 0\n",
    "    y_pred[y_pred==-1] = 1\n",
    "    n_errors = (y_pred !=y).sum()\n",
    "\n",
    "    # run the classification matrix\n",
    "    print(' Model {}: n_errors{}'.format(clf_name, n_errors) )\n",
    "    print('Accuracy score:{}'.format(accuracy_score(y, y_pred)))\n",
    "    print('Classification report:{}'.format( classification_report(y, y_pred)))\n",
    "    \n",
    "    # print the confusion matrix\n",
    "    print('Confusion Matrix: ')\n",
    "    print((confusion_matrix(y, y_pred)))\n",
    "    \n",
    "    # print a new line for  readibility\n",
    "    print('\\n')    "
   ]
  },
  {
   "cell_type": "markdown",
   "metadata": {},
   "source": [
    "###### Anomaly detection models perform much worse than classical ML algorithms. Even Isolation Forest performances are worse than basic RF"
   ]
  }
 ],
 "metadata": {
  "kernelspec": {
   "display_name": "Python 3",
   "language": "python",
   "name": "python3"
  },
  "language_info": {
   "codemirror_mode": {
    "name": "ipython",
    "version": 3
   },
   "file_extension": ".py",
   "mimetype": "text/x-python",
   "name": "python",
   "nbconvert_exporter": "python",
   "pygments_lexer": "ipython3",
   "version": "3.5.4"
  }
 },
 "nbformat": 4,
 "nbformat_minor": 2
}
